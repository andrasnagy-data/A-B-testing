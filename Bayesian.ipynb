{
 "cells": [
  {
   "cell_type": "code",
   "execution_count": 1,
   "id": "listed-avatar",
   "metadata": {},
   "outputs": [],
   "source": [
    "import numpy as np\n",
    "import pandas as pd\n",
    "from scipy.stats import beta\n",
    "import matplotlib.pyplot as plt"
   ]
  },
  {
   "cell_type": "markdown",
   "id": "undefined-contact",
   "metadata": {},
   "source": [
    "Random seed for reproducability"
   ]
  },
  {
   "cell_type": "code",
   "execution_count": 2,
   "id": "caroline-tooth",
   "metadata": {},
   "outputs": [],
   "source": [
    "np.random.seed(42)"
   ]
  },
  {
   "cell_type": "markdown",
   "id": "filled-catering",
   "metadata": {},
   "source": [
    "**Click-through rate** - for the sake of the exercise, I assume a prior of approximately 8% CTR for both variants of to-be-tested emails. (the prior can be estimated/known from previous research of the company) "
   ]
  },
  {
   "cell_type": "code",
   "execution_count": 3,
   "id": "lucky-pension",
   "metadata": {},
   "outputs": [
    {
     "data": {
      "text/plain": [
       "'8.33'"
      ]
     },
     "execution_count": 3,
     "metadata": {},
     "output_type": "execute_result"
    }
   ],
   "source": [
    "# prior parameters\n",
    "clicked, not_clicked = 1, 11\n",
    "f\"{clicked * 100 / (clicked + not_clicked):.2f}\""
   ]
  },
  {
   "cell_type": "code",
   "execution_count": 4,
   "id": "curious-jackson",
   "metadata": {},
   "outputs": [],
   "source": [
    "# probability vector\n",
    "p = np.linspace(beta.ppf(0.01, clicked, not_clicked), beta.ppf(0.99, clicked, not_clicked), 100)"
   ]
  },
  {
   "cell_type": "markdown",
   "id": "asian-glass",
   "metadata": {},
   "source": [
    "### Prior Beta distribution of CTR -Visualization"
   ]
  },
  {
   "cell_type": "code",
   "execution_count": 5,
   "id": "trying-chair",
   "metadata": {},
   "outputs": [
    {
     "data": {
      "image/png": "[encoded data removed]",
      "text/plain": [
       "<Figure size 432x288 with 1 Axes>"
      ]
     },
     "metadata": {
      "needs_background": "light"
     },
     "output_type": "display_data"
    }
   ],
   "source": [
    "fig, ax = plt.subplots()\n",
    "ax.plot(beta.pdf(p, clicked, not_clicked), 'b-')\n",
    "ax.set_title('PDF for prior CTR', size= 14)\n",
    "ax.set_xlabel('click-through rate', size= 14)\n",
    "ax.set_ylabel('density');"
   ]
  },
  {
   "cell_type": "markdown",
   "id": "musical-attachment",
   "metadata": {},
   "source": [
    "*Note:* I do not have precise data of prior CTR, therefore I assumed a beta distribution with a higher variance (meaning: $\\alpha$ and $\\beta$ are small values)"
   ]
  },
  {
   "cell_type": "markdown",
   "id": "naked-treasure",
   "metadata": {},
   "source": [
    "#### Result of Experiment"
   ]
  },
  {
   "cell_type": "markdown",
   "id": "surgical-collector",
   "metadata": {},
   "source": [
    "Empirical CTR"
   ]
  },
  {
   "cell_type": "code",
   "execution_count": 6,
   "id": "polished-welding",
   "metadata": {},
   "outputs": [
    {
     "data": {
      "text/html": [
       "<div>\n",
       "<style scoped>\n",
       "    .dataframe tbody tr th:only-of-type {\n",
       "        vertical-align: middle;\n",
       "    }\n",
       "\n",
       "    .dataframe tbody tr th {\n",
       "        vertical-align: top;\n",
       "    }\n",
       "\n",
       "    .dataframe thead th {\n",
       "        text-align: right;\n",
       "    }\n",
       "</style>\n",
       "<table border=\"1\" class=\"dataframe\">\n",
       "  <thead>\n",
       "    <tr style=\"text-align: right;\">\n",
       "      <th></th>\n",
       "      <th>Email_A</th>\n",
       "      <th>Email_B</th>\n",
       "    </tr>\n",
       "  </thead>\n",
       "  <tbody>\n",
       "    <tr>\n",
       "      <th>clicked</th>\n",
       "      <td>90</td>\n",
       "      <td>110</td>\n",
       "    </tr>\n",
       "    <tr>\n",
       "      <th>not_clicked</th>\n",
       "      <td>910</td>\n",
       "      <td>890</td>\n",
       "    </tr>\n",
       "  </tbody>\n",
       "</table>\n",
       "</div>"
      ],
      "text/plain": [
       "             Email_A  Email_B\n",
       "clicked           90      110\n",
       "not_clicked      910      890"
      ]
     },
     "execution_count": 6,
     "metadata": {},
     "output_type": "execute_result"
    }
   ],
   "source": [
    "data = {'Email_A': [90, 1000-90], 'Email_B': [110, 1000-110]}\n",
    "pd.DataFrame(data, index= ['clicked', 'not_clicked'])"
   ]
  },
  {
   "cell_type": "markdown",
   "id": "documentary-cornwall",
   "metadata": {},
   "source": [
    "Posterior is given by prior + likelihood"
   ]
  },
  {
   "cell_type": "code",
   "execution_count": 7,
   "id": "concrete-closing",
   "metadata": {},
   "outputs": [],
   "source": [
    "# posterior parameters for both ads\n",
    "clicked_A, not_clicked_A = 90 + clicked, 910 + not_clicked\n",
    "clicked_B, not_clicked_B = 110 + clicked, 890 + not_clicked"
   ]
  },
  {
   "cell_type": "markdown",
   "id": "desperate-oliver",
   "metadata": {},
   "source": [
    "### Posterior Beta distribution of CTRs -Visualization"
   ]
  },
  {
   "cell_type": "code",
   "execution_count": 8,
   "id": "numerous-defendant",
   "metadata": {},
   "outputs": [
    {
     "data": {
      "image/png": "[encoded data removed]",
      "text/plain": [
       "<Figure size 432x288 with 1 Axes>"
      ]
     },
     "metadata": {
      "needs_background": "light"
     },
     "output_type": "display_data"
    }
   ],
   "source": [
    "fig, ax = plt.subplots()\n",
    "ax.plot(beta.pdf(p, clicked_A, not_clicked_A), 'r-') # ad A\n",
    "ax.plot(beta.pdf(p, clicked_B, not_clicked_B), 'g-') # ad B\n",
    "ax.set_title('PDF for posterior CTR', size= 14)\n",
    "ax.set_xlabel('click-through rate', size= 14)\n",
    "ax.set_ylabel('density');"
   ]
  },
  {
   "cell_type": "markdown",
   "id": "incomplete-black",
   "metadata": {},
   "source": [
    "### Monte Carlo Simulation"
   ]
  },
  {
   "cell_type": "code",
   "execution_count": 9,
   "id": "dated-bulgarian",
   "metadata": {},
   "outputs": [],
   "source": [
    "n_trials = 10000 # number of samples from each distribution"
   ]
  },
  {
   "cell_type": "markdown",
   "id": "hybrid-expert",
   "metadata": {},
   "source": [
    "Beta distribution of ad A & ad B"
   ]
  },
  {
   "cell_type": "code",
   "execution_count": 10,
   "id": "dimensional-albuquerque",
   "metadata": {},
   "outputs": [],
   "source": [
    "posterior_A = beta(clicked_A, not_clicked_A)\n",
    "posterior_B = beta(clicked_B, not_clicked_B)"
   ]
  },
  {
   "cell_type": "markdown",
   "id": "binding-advice",
   "metadata": {},
   "source": [
    "Draw 10k samples from each distribution"
   ]
  },
  {
   "cell_type": "code",
   "execution_count": 11,
   "id": "floppy-garlic",
   "metadata": {},
   "outputs": [],
   "source": [
    "posterior_A_sample = pd.Series([posterior_A.rvs() for _ in range(n_trials)])\n",
    "posterior_B_sample = pd.Series([posterior_B.rvs() for _ in range(n_trials)])"
   ]
  },
  {
   "cell_type": "code",
   "execution_count": 12,
   "id": "searching-syndrome",
   "metadata": {},
   "outputs": [
    {
     "data": {
      "text/plain": [
       "0.936"
      ]
     },
     "execution_count": 12,
     "metadata": {},
     "output_type": "execute_result"
    }
   ],
   "source": [
    "post_B_win = sum(posterior_B_sample > posterior_A_sample) / n_trials\n",
    "post_B_win"
   ]
  },
  {
   "cell_type": "markdown",
   "id": "proof-proportion",
   "metadata": {},
   "source": [
    "**Conclusion:** ~93% of the times email B outperformed email A in terms of CTR."
   ]
  },
  {
   "cell_type": "markdown",
   "id": "empty-progress",
   "metadata": {},
   "source": [
    "### Confidence Interval for email A's and email B's true CTR"
   ]
  },
  {
   "cell_type": "code",
   "execution_count": 13,
   "id": "ruled-aquarium",
   "metadata": {},
   "outputs": [],
   "source": [
    "lower_A = beta.ppf(0.025, clicked_A, not_clicked_A)\n",
    "upper_A = beta.ppf(0.975, clicked_A, not_clicked_A)\n",
    "\n",
    "lower_B = beta.ppf(0.025, clicked_B, not_clicked_B)\n",
    "upper_B = beta.ppf(0.975, clicked_B, not_clicked_B)"
   ]
  },
  {
   "cell_type": "code",
   "execution_count": 14,
   "id": "divided-petite",
   "metadata": {},
   "outputs": [
    {
     "data": {
      "text/plain": [
       "'The 95% Confidence interval for true conversion rate from email A is between 0.073 and 0.108.'"
      ]
     },
     "execution_count": 14,
     "metadata": {},
     "output_type": "execute_result"
    }
   ],
   "source": [
    "f\"The 95% Confidence interval for true conversion rate from email A is between {lower_A:.3f} and {upper_A:.3f}.\""
   ]
  },
  {
   "cell_type": "code",
   "execution_count": 15,
   "id": "reflected-defensive",
   "metadata": {},
   "outputs": [
    {
     "data": {
      "text/plain": [
       "'The 95% Confidence interval for true conversion rate from email B is between 0.091 and 0.130.'"
      ]
     },
     "execution_count": 15,
     "metadata": {},
     "output_type": "execute_result"
    }
   ],
   "source": [
    "f\"The 95% Confidence interval for true conversion rate from email B is between {lower_B:.3f} and {upper_B:.3f}.\""
   ]
  },
  {
   "cell_type": "markdown",
   "id": "reported-dodge",
   "metadata": {},
   "source": [
    "### Relative Performance of email B to email A"
   ]
  },
  {
   "cell_type": "code",
   "execution_count": 16,
   "id": "precious-imperial",
   "metadata": {},
   "outputs": [
    {
     "data": {
      "image/png": "[encoded data removed]",
      "text/plain": [
       "<Figure size 432x288 with 1 Axes>"
      ]
     },
     "metadata": {
      "needs_background": "light"
     },
     "output_type": "display_data"
    }
   ],
   "source": [
    "relative_performance_B = posterior_B_sample / posterior_A_sample\n",
    "relative_performance_B.hist()\n",
    "plt.title('Relative performance of email B, compared to email A', size= 14);\n",
    "plt.xlabel('Improvement rate', size= 12);\n",
    "plt.ylabel('Counts', size= 12);"
   ]
  },
  {
   "cell_type": "markdown",
   "id": "foster-signal",
   "metadata": {},
   "source": [
    "**~ 1.2x improvement of CTR (compared to email A) is most likely.**"
   ]
  }
 ],
 "metadata": {
  "kernelspec": {
   "display_name": "Python 3",
   "language": "python",
   "name": "python3"
  },
  "language_info": {
   "codemirror_mode": {
    "name": "ipython",
    "version": 3
   },
   "file_extension": ".py",
   "mimetype": "text/x-python",
   "name": "python",
   "nbconvert_exporter": "python",
   "pygments_lexer": "ipython3",
   "version": "3.8.5"
  }
 },
 "nbformat": 4,
 "nbformat_minor": 5
}
