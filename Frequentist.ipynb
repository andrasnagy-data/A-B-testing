{
 "cells": [
  {
   "cell_type": "code",
   "execution_count": 1,
   "id": "human-filename",
   "metadata": {},
   "outputs": [],
   "source": [
    "import pandas as pd\n",
    "import numpy as np\n",
    "from scipy.stats import chi2_contingency\n",
    "from statsmodels.stats.proportion import proportions_ztest"
   ]
  },
  {
   "cell_type": "markdown",
   "id": "amazing-membrane",
   "metadata": {},
   "source": [
    "### Result of experiment"
   ]
  },
  {
   "cell_type": "code",
   "execution_count": 2,
   "id": "excellent-charles",
   "metadata": {},
   "outputs": [
    {
     "data": {
      "text/html": [
       "<div>\n",
       "<style scoped>\n",
       "    .dataframe tbody tr th:only-of-type {\n",
       "        vertical-align: middle;\n",
       "    }\n",
       "\n",
       "    .dataframe tbody tr th {\n",
       "        vertical-align: top;\n",
       "    }\n",
       "\n",
       "    .dataframe thead th {\n",
       "        text-align: right;\n",
       "    }\n",
       "</style>\n",
       "<table border=\"1\" class=\"dataframe\">\n",
       "  <thead>\n",
       "    <tr style=\"text-align: right;\">\n",
       "      <th></th>\n",
       "      <th>Email_A</th>\n",
       "      <th>Email_B</th>\n",
       "    </tr>\n",
       "  </thead>\n",
       "  <tbody>\n",
       "    <tr>\n",
       "      <th>clicked</th>\n",
       "      <td>90</td>\n",
       "      <td>110</td>\n",
       "    </tr>\n",
       "    <tr>\n",
       "      <th>not_clicked</th>\n",
       "      <td>910</td>\n",
       "      <td>890</td>\n",
       "    </tr>\n",
       "  </tbody>\n",
       "</table>\n",
       "</div>"
      ],
      "text/plain": [
       "             Email_A  Email_B\n",
       "clicked           90      110\n",
       "not_clicked      910      890"
      ]
     },
     "execution_count": 2,
     "metadata": {},
     "output_type": "execute_result"
    }
   ],
   "source": [
    "data = {'Email_A': [90, 1000-90], 'Email_B': [110, 1000-110]}\n",
    "pd.DataFrame(data, index= ['clicked', 'not_clicked'])"
   ]
  },
  {
   "cell_type": "code",
   "execution_count": 3,
   "id": "grave-grammar",
   "metadata": {},
   "outputs": [],
   "source": [
    "contingency_table = np.array([\n",
    "                    [90, 110], \n",
    "                    [910, 890]])"
   ]
  },
  {
   "cell_type": "markdown",
   "id": "adopted-beach",
   "metadata": {},
   "source": [
    "### Chi-square test "
   ]
  },
  {
   "cell_type": "markdown",
   "id": "occupational-luther",
   "metadata": {},
   "source": [
    "Significance level: $\\alpha= 0.05$"
   ]
  },
  {
   "cell_type": "markdown",
   "id": "bright-behalf",
   "metadata": {},
   "source": [
    "$H_{0}$: The different versions of emails have no difference in CTR"
   ]
  },
  {
   "cell_type": "markdown",
   "id": "municipal-rabbit",
   "metadata": {},
   "source": [
    "$H_{a}$: The different versions of emails have a difference in CTR"
   ]
  },
  {
   "cell_type": "code",
   "execution_count": 4,
   "id": "anonymous-mexico",
   "metadata": {},
   "outputs": [
    {
     "data": {
      "text/plain": [
       "'The p-value is: 0.1360, therefore we fail to reject the null hypotheses at alpha= 0.05'"
      ]
     },
     "execution_count": 4,
     "metadata": {},
     "output_type": "execute_result"
    }
   ],
   "source": [
    "g, pvalue, dof, expctd = chi2_contingency(contingency_table, correction= False)\n",
    "f\"The p-value is: {pvalue:.4f}, therefore we fail to reject the null hypotheses at alpha= 0.05\""
   ]
  },
  {
   "cell_type": "markdown",
   "id": "wooden-correction",
   "metadata": {},
   "source": [
    "### Proportion Z-test"
   ]
  },
  {
   "cell_type": "markdown",
   "id": "excellent-stockholm",
   "metadata": {},
   "source": [
    "Significance level: $\\alpha= 0.05$"
   ]
  },
  {
   "cell_type": "markdown",
   "id": "thousand-instruction",
   "metadata": {},
   "source": [
    "$H_{0}$: The different versions of emails have no difference in CTR"
   ]
  },
  {
   "cell_type": "markdown",
   "id": "organized-portrait",
   "metadata": {},
   "source": [
    "$H_{a}$: The different versions of emails have a difference in CTR"
   ]
  },
  {
   "cell_type": "code",
   "execution_count": 5,
   "id": "animated-compact",
   "metadata": {},
   "outputs": [
    {
     "data": {
      "text/plain": [
       "'The p-value is: 0.1360, therefore we fail to reject the null hypotheses at alpha= 0.05'"
      ]
     },
     "execution_count": 5,
     "metadata": {},
     "output_type": "execute_result"
    }
   ],
   "source": [
    "zscore, pvalue = proportions_ztest(contingency_table[1, :], contingency_table.sum(axis=0), alternative='two-sided')\n",
    "f\"The p-value is: {pvalue:.4f}, therefore we fail to reject the null hypotheses at alpha= 0.05\""
   ]
  }
 ],
 "metadata": {
  "kernelspec": {
   "display_name": "Python 3",
   "language": "python",
   "name": "python3"
  },
  "language_info": {
   "codemirror_mode": {
    "name": "ipython",
    "version": 3
   },
   "file_extension": ".py",
   "mimetype": "text/x-python",
   "name": "python",
   "nbconvert_exporter": "python",
   "pygments_lexer": "ipython3",
   "version": "3.8.5"
  }
 },
 "nbformat": 4,
 "nbformat_minor": 5
}
